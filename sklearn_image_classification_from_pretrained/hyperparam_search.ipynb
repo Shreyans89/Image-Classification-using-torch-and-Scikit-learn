{
 "cells": [
  {
   "cell_type": "markdown",
   "metadata": {},
   "source": [
    "## Dependencies\n",
    "\n"
   ]
  },
  {
   "cell_type": "code",
   "execution_count": 55,
   "metadata": {},
   "outputs": [],
   "source": [
    "import numpy as np\n",
    "import sklearn.datasets\n",
    "import sklearn.metrics\n",
    "from sklearn.model_selection import train_test_split\n",
    "\n",
    "import matplotlib.pyplot as plt\n",
    "import seaborn as sns\n",
    "sns.set()\n",
    "sns.set_context('talk')\n",
    "sns.set_style('whitegrid')\n",
    "sns.set_palette(sns.color_palette(\"bright\", 8))"
   ]
  },
  {
   "cell_type": "code",
   "execution_count": 56,
   "metadata": {},
   "outputs": [],
   "source": [
    "from sklearn.preprocessing import RobustScaler\n",
    "from sklearn.ensemble import RandomForestClassifier\n",
    "from sklearn.pipeline import make_pipeline\n",
    "from sklearn.metrics import f1_score,balanced_accuracy_score\n",
    "\n",
    "\n",
    "from sklearn.model_selection import GridSearchCV, KFold, StratifiedKFold\n",
    "from get_image_data_tabular import *\n",
    "from pprint import pprint\n",
    "import time"
   ]
  },
  {
   "cell_type": "markdown",
   "metadata": {},
   "source": [
    "Extract features from image dataset using a pretrained convnet"
   ]
  },
  {
   "cell_type": "code",
   "execution_count": 57,
   "metadata": {
    "collapsed": true,
    "jupyter": {
     "outputs_hidden": true
    },
    "tags": []
   },
   "outputs": [
    {
     "name": "stderr",
     "output_type": "stream",
     "text": [
      " 11%|█████████                                                                          | 8/73 [00:07<01:01,  1.06it/s]"
     ]
    },
    {
     "name": "stdout",
     "output_type": "stream",
     "text": [
      "imagenette2-320\\train\\n02102040\\n02102040_1408.JPEG\n"
     ]
    },
    {
     "name": "stderr",
     "output_type": "stream",
     "text": [
      " 12%|██████████▏                                                                        | 9/73 [00:08<00:59,  1.07it/s]"
     ]
    },
    {
     "name": "stdout",
     "output_type": "stream",
     "text": [
      "imagenette2-320\\train\\n02102040\\n02102040_173.JPEG\n",
      "imagenette2-320\\train\\n02102040\\n02102040_2149.JPEG\n"
     ]
    },
    {
     "name": "stderr",
     "output_type": "stream",
     "text": [
      " 14%|███████████▏                                                                      | 10/73 [00:09<00:59,  1.06it/s]"
     ]
    },
    {
     "name": "stdout",
     "output_type": "stream",
     "text": [
      "imagenette2-320\\train\\n02102040\\n02102040_3183.JPEG\n",
      "imagenette2-320\\train\\n02102040\\n02102040_3575.JPEG\n"
     ]
    },
    {
     "name": "stderr",
     "output_type": "stream",
     "text": [
      " 16%|█████████████▍                                                                    | 12/73 [00:11<00:57,  1.06it/s]"
     ]
    },
    {
     "name": "stdout",
     "output_type": "stream",
     "text": [
      "imagenette2-320\\train\\n02102040\\n02102040_5376.JPEG\n",
      "imagenette2-320\\train\\n02102040\\n02102040_598.JPEG\n"
     ]
    },
    {
     "name": "stderr",
     "output_type": "stream",
     "text": [
      " 18%|██████████████▌                                                                   | 13/73 [00:12<00:56,  1.07it/s]"
     ]
    },
    {
     "name": "stdout",
     "output_type": "stream",
     "text": [
      "imagenette2-320\\train\\n02102040\\n02102040_725.JPEG\n"
     ]
    },
    {
     "name": "stderr",
     "output_type": "stream",
     "text": [
      " 19%|███████████████▋                                                                  | 14/73 [00:13<00:55,  1.07it/s]"
     ]
    },
    {
     "name": "stdout",
     "output_type": "stream",
     "text": [
      "imagenette2-320\\train\\n02102040\\n02102040_7646.JPEG\n"
     ]
    },
    {
     "name": "stderr",
     "output_type": "stream",
     "text": [
      " 21%|████████████████▊                                                                 | 15/73 [00:14<00:54,  1.06it/s]"
     ]
    },
    {
     "name": "stdout",
     "output_type": "stream",
     "text": [
      "imagenette2-320\\train\\n02979186\\ILSVRC2012_val_00006787.JPEG\n",
      "imagenette2-320\\train\\n02979186\\n02979186_10755.JPEG\n"
     ]
    },
    {
     "name": "stderr",
     "output_type": "stream",
     "text": [
      " 23%|███████████████████                                                               | 17/73 [00:16<00:53,  1.05it/s]"
     ]
    },
    {
     "name": "stdout",
     "output_type": "stream",
     "text": [
      "imagenette2-320\\train\\n02979186\\n02979186_13764.JPEG\n",
      "imagenette2-320\\train\\n02979186\\n02979186_14758.JPEG\n",
      "imagenette2-320\\train\\n02979186\\n02979186_15188.JPEG\n",
      "imagenette2-320\\train\\n02979186\\n02979186_1587.JPEG\n",
      "imagenette2-320\\train\\n02979186\\n02979186_16515.JPEG\n"
     ]
    },
    {
     "name": "stderr",
     "output_type": "stream",
     "text": [
      " 26%|█████████████████████▎                                                            | 19/73 [00:18<00:51,  1.05it/s]"
     ]
    },
    {
     "name": "stdout",
     "output_type": "stream",
     "text": [
      "imagenette2-320\\train\\n02979186\\n02979186_23104.JPEG\n",
      "imagenette2-320\\train\\n02979186\\n02979186_26014.JPEG\n"
     ]
    },
    {
     "name": "stderr",
     "output_type": "stream",
     "text": [
      " 27%|██████████████████████▍                                                           | 20/73 [00:18<00:50,  1.05it/s]"
     ]
    },
    {
     "name": "stdout",
     "output_type": "stream",
     "text": [
      "imagenette2-320\\train\\n02979186\\n02979186_3009.JPEG\n"
     ]
    },
    {
     "name": "stderr",
     "output_type": "stream",
     "text": [
      " 29%|███████████████████████▌                                                          | 21/73 [00:20<00:53,  1.03s/it]"
     ]
    },
    {
     "name": "stdout",
     "output_type": "stream",
     "text": [
      "imagenette2-320\\train\\n02979186\\n02979186_4266.JPEG\n",
      "imagenette2-320\\train\\n02979186\\n02979186_5737.JPEG\n"
     ]
    },
    {
     "name": "stderr",
     "output_type": "stream",
     "text": [
      " 32%|█████████████████████████▊                                                        | 23/73 [00:22<00:49,  1.00it/s]"
     ]
    },
    {
     "name": "stdout",
     "output_type": "stream",
     "text": [
      "imagenette2-320\\train\\n03000684\\n03000684_11104.JPEG\n",
      "imagenette2-320\\train\\n03000684\\n03000684_11333.JPEG\n",
      "imagenette2-320\\train\\n03000684\\n03000684_1229.JPEG\n",
      "imagenette2-320\\train\\n03000684\\n03000684_13255.JPEG\n"
     ]
    },
    {
     "name": "stderr",
     "output_type": "stream",
     "text": [
      " 33%|██████████████████████████▉                                                       | 24/73 [00:23<00:49,  1.00s/it]"
     ]
    },
    {
     "name": "stdout",
     "output_type": "stream",
     "text": [
      "imagenette2-320\\train\\n03000684\\n03000684_14043.JPEG\n",
      "imagenette2-320\\train\\n03000684\\n03000684_14916.JPEG\n"
     ]
    },
    {
     "name": "stderr",
     "output_type": "stream",
     "text": [
      " 34%|████████████████████████████                                                      | 25/73 [00:24<00:48,  1.00s/it]"
     ]
    },
    {
     "name": "stdout",
     "output_type": "stream",
     "text": [
      "imagenette2-320\\train\\n03000684\\n03000684_19753.JPEG\n",
      "imagenette2-320\\train\\n03000684\\n03000684_2035.JPEG\n"
     ]
    },
    {
     "name": "stderr",
     "output_type": "stream",
     "text": [
      " 37%|██████████████████████████████▎                                                   | 27/73 [00:26<00:50,  1.09s/it]"
     ]
    },
    {
     "name": "stdout",
     "output_type": "stream",
     "text": [
      "imagenette2-320\\train\\n03000684\\n03000684_33316.JPEG\n",
      "imagenette2-320\\train\\n03000684\\n03000684_426.JPEG\n",
      "imagenette2-320\\train\\n03000684\\n03000684_4636.JPEG\n"
     ]
    },
    {
     "name": "stderr",
     "output_type": "stream",
     "text": [
      " 38%|███████████████████████████████▍                                                  | 28/73 [00:27<00:48,  1.08s/it]"
     ]
    },
    {
     "name": "stdout",
     "output_type": "stream",
     "text": [
      "imagenette2-320\\train\\n03000684\\n03000684_5243.JPEG\n"
     ]
    },
    {
     "name": "stderr",
     "output_type": "stream",
     "text": [
      " 40%|████████████████████████████████▌                                                 | 29/73 [00:28<00:46,  1.07s/it]"
     ]
    },
    {
     "name": "stdout",
     "output_type": "stream",
     "text": [
      "imagenette2-320\\train\\n03028079\\ILSVRC2012_val_00049943.JPEG\n",
      "imagenette2-320\\train\\n03028079\\n03028079_10014.JPEG\n",
      "imagenette2-320\\train\\n03028079\\n03028079_10425.JPEG\n",
      "imagenette2-320\\train\\n03028079\\n03028079_10494.JPEG\n",
      "imagenette2-320\\train\\n03028079\\n03028079_10576.JPEG\n"
     ]
    },
    {
     "name": "stderr",
     "output_type": "stream",
     "text": [
      " 41%|█████████████████████████████████▋                                                | 30/73 [00:29<00:44,  1.04s/it]"
     ]
    },
    {
     "name": "stdout",
     "output_type": "stream",
     "text": [
      "imagenette2-320\\train\\n03028079\\n03028079_11578.JPEG\n",
      "imagenette2-320\\train\\n03028079\\n03028079_14263.JPEG\n",
      "imagenette2-320\\train\\n03028079\\n03028079_14278.JPEG\n",
      "imagenette2-320\\train\\n03028079\\n03028079_14604.JPEG\n"
     ]
    },
    {
     "name": "stderr",
     "output_type": "stream",
     "text": [
      " 42%|██████████████████████████████████▊                                               | 31/73 [00:30<00:42,  1.02s/it]"
     ]
    },
    {
     "name": "stdout",
     "output_type": "stream",
     "text": [
      "imagenette2-320\\train\\n03028079\\n03028079_15946.JPEG\n",
      "imagenette2-320\\train\\n03028079\\n03028079_16705.JPEG\n",
      "imagenette2-320\\train\\n03028079\\n03028079_16924.JPEG\n",
      "imagenette2-320\\train\\n03028079\\n03028079_17715.JPEG\n",
      "imagenette2-320\\train\\n03028079\\n03028079_18097.JPEG\n",
      "imagenette2-320\\train\\n03028079\\n03028079_20186.JPEG\n"
     ]
    },
    {
     "name": "stderr",
     "output_type": "stream",
     "text": [
      " 44%|███████████████████████████████████▉                                              | 32/73 [00:31<00:47,  1.16s/it]"
     ]
    },
    {
     "name": "stdout",
     "output_type": "stream",
     "text": [
      "imagenette2-320\\train\\n03028079\\n03028079_24595.JPEG\n",
      "imagenette2-320\\train\\n03028079\\n03028079_27545.JPEG\n"
     ]
    },
    {
     "name": "stderr",
     "output_type": "stream",
     "text": [
      " 45%|█████████████████████████████████████                                             | 33/73 [00:32<00:44,  1.11s/it]"
     ]
    },
    {
     "name": "stdout",
     "output_type": "stream",
     "text": [
      "imagenette2-320\\train\\n03028079\\n03028079_29556.JPEG\n",
      "imagenette2-320\\train\\n03028079\\n03028079_31753.JPEG\n",
      "imagenette2-320\\train\\n03028079\\n03028079_3193.JPEG\n",
      "imagenette2-320\\train\\n03028079\\n03028079_35048.JPEG\n"
     ]
    },
    {
     "name": "stderr",
     "output_type": "stream",
     "text": [
      " 47%|██████████████████████████████████████▏                                           | 34/73 [00:33<00:42,  1.09s/it]"
     ]
    },
    {
     "name": "stdout",
     "output_type": "stream",
     "text": [
      "imagenette2-320\\train\\n03028079\\n03028079_3956.JPEG\n",
      "imagenette2-320\\train\\n03028079\\n03028079_46967.JPEG\n"
     ]
    },
    {
     "name": "stderr",
     "output_type": "stream",
     "text": [
      " 48%|███████████████████████████████████████▎                                          | 35/73 [00:35<00:40,  1.07s/it]"
     ]
    },
    {
     "name": "stdout",
     "output_type": "stream",
     "text": [
      "imagenette2-320\\train\\n03028079\\n03028079_5484.JPEG\n",
      "imagenette2-320\\train\\n03028079\\n03028079_7233.JPEG\n"
     ]
    },
    {
     "name": "stderr",
     "output_type": "stream",
     "text": [
      " 49%|████████████████████████████████████████▍                                         | 36/73 [00:36<00:39,  1.06s/it]"
     ]
    },
    {
     "name": "stdout",
     "output_type": "stream",
     "text": [
      "imagenette2-320\\train\\n03028079\\n03028079_9127.JPEG\n",
      "imagenette2-320\\train\\n03028079\\n03028079_9683.JPEG\n"
     ]
    },
    {
     "name": "stderr",
     "output_type": "stream",
     "text": [
      " 51%|█████████████████████████████████████████▌                                        | 37/73 [00:37<00:39,  1.09s/it]"
     ]
    },
    {
     "name": "stdout",
     "output_type": "stream",
     "text": [
      "imagenette2-320\\train\\n03394916\\ILSVRC2012_val_00030728.JPEG\n",
      "imagenette2-320\\train\\n03394916\\n03394916_1149.JPEG\n",
      "imagenette2-320\\train\\n03394916\\n03394916_16246.JPEG\n"
     ]
    },
    {
     "name": "stderr",
     "output_type": "stream",
     "text": [
      " 52%|██████████████████████████████████████████▋                                       | 38/73 [00:38<00:37,  1.07s/it]"
     ]
    },
    {
     "name": "stdout",
     "output_type": "stream",
     "text": [
      "imagenette2-320\\train\\n03394916\\n03394916_24023.JPEG\n",
      "imagenette2-320\\train\\n03394916\\n03394916_24024.JPEG\n",
      "imagenette2-320\\train\\n03394916\\n03394916_24385.JPEG\n",
      "imagenette2-320\\train\\n03394916\\n03394916_2688.JPEG\n",
      "imagenette2-320\\train\\n03394916\\n03394916_27139.JPEG\n",
      "imagenette2-320\\train\\n03394916\\n03394916_29106.JPEG\n",
      "imagenette2-320\\train\\n03394916\\n03394916_29536.JPEG\n"
     ]
    },
    {
     "name": "stderr",
     "output_type": "stream",
     "text": [
      " 53%|███████████████████████████████████████████▊                                      | 39/73 [00:39<00:35,  1.05s/it]"
     ]
    },
    {
     "name": "stdout",
     "output_type": "stream",
     "text": [
      "imagenette2-320\\train\\n03394916\\n03394916_30289.JPEG\n",
      "imagenette2-320\\train\\n03394916\\n03394916_31453.JPEG\n",
      "imagenette2-320\\train\\n03394916\\n03394916_32505.JPEG\n"
     ]
    },
    {
     "name": "stderr",
     "output_type": "stream",
     "text": [
      " 55%|████████████████████████████████████████████▉                                     | 40/73 [00:40<00:33,  1.03s/it]"
     ]
    },
    {
     "name": "stdout",
     "output_type": "stream",
     "text": [
      "imagenette2-320\\train\\n03394916\\n03394916_35376.JPEG\n",
      "imagenette2-320\\train\\n03394916\\n03394916_35408.JPEG\n",
      "imagenette2-320\\train\\n03394916\\n03394916_35544.JPEG\n",
      "imagenette2-320\\train\\n03394916\\n03394916_36924.JPEG\n",
      "imagenette2-320\\train\\n03394916\\n03394916_3705.JPEG\n",
      "imagenette2-320\\train\\n03394916\\n03394916_37095.JPEG\n",
      "imagenette2-320\\train\\n03394916\\n03394916_37365.JPEG\n",
      "imagenette2-320\\train\\n03394916\\n03394916_37415.JPEG\n"
     ]
    },
    {
     "name": "stderr",
     "output_type": "stream",
     "text": [
      " 56%|██████████████████████████████████████████████                                    | 41/73 [00:41<00:32,  1.03s/it]"
     ]
    },
    {
     "name": "stdout",
     "output_type": "stream",
     "text": [
      "imagenette2-320\\train\\n03394916\\n03394916_37874.JPEG\n",
      "imagenette2-320\\train\\n03394916\\n03394916_38223.JPEG\n",
      "imagenette2-320\\train\\n03394916\\n03394916_38313.JPEG\n",
      "imagenette2-320\\train\\n03394916\\n03394916_38326.JPEG\n",
      "imagenette2-320\\train\\n03394916\\n03394916_40087.JPEG\n",
      "imagenette2-320\\train\\n03394916\\n03394916_4023.JPEG\n",
      "imagenette2-320\\train\\n03394916\\n03394916_40257.JPEG\n",
      "imagenette2-320\\train\\n03394916\\n03394916_40416.JPEG\n",
      "imagenette2-320\\train\\n03394916\\n03394916_41133.JPEG\n",
      "imagenette2-320\\train\\n03394916\\n03394916_4156.JPEG\n",
      "imagenette2-320\\train\\n03394916\\n03394916_42167.JPEG\n",
      "imagenette2-320\\train\\n03394916\\n03394916_43058.JPEG\n"
     ]
    },
    {
     "name": "stderr",
     "output_type": "stream",
     "text": [
      " 58%|███████████████████████████████████████████████▏                                  | 42/73 [00:42<00:31,  1.01s/it]"
     ]
    },
    {
     "name": "stdout",
     "output_type": "stream",
     "text": [
      "imagenette2-320\\train\\n03394916\\n03394916_45517.JPEG\n",
      "imagenette2-320\\train\\n03394916\\n03394916_46607.JPEG\n",
      "imagenette2-320\\train\\n03394916\\n03394916_46858.JPEG\n",
      "imagenette2-320\\train\\n03394916\\n03394916_47296.JPEG\n",
      "imagenette2-320\\train\\n03394916\\n03394916_4747.JPEG\n",
      "imagenette2-320\\train\\n03394916\\n03394916_47688.JPEG\n"
     ]
    },
    {
     "name": "stderr",
     "output_type": "stream",
     "text": [
      " 59%|████████████████████████████████████████████████▎                                 | 43/73 [00:43<00:30,  1.01s/it]"
     ]
    },
    {
     "name": "stdout",
     "output_type": "stream",
     "text": [
      "imagenette2-320\\train\\n03394916\\n03394916_57578.JPEG\n",
      "imagenette2-320\\train\\n03394916\\n03394916_65604.JPEG\n"
     ]
    },
    {
     "name": "stderr",
     "output_type": "stream",
     "text": [
      " 60%|█████████████████████████████████████████████████▍                                | 44/73 [00:44<00:29,  1.02s/it]"
     ]
    },
    {
     "name": "stdout",
     "output_type": "stream",
     "text": [
      "imagenette2-320\\train\\n03394916\\n03394916_7045.JPEG\n",
      "imagenette2-320\\train\\n03394916\\n03394916_7616.JPEG\n"
     ]
    },
    {
     "name": "stderr",
     "output_type": "stream",
     "text": [
      " 62%|██████████████████████████████████████████████████▌                               | 45/73 [00:45<00:28,  1.02s/it]"
     ]
    },
    {
     "name": "stdout",
     "output_type": "stream",
     "text": [
      "imagenette2-320\\train\\n03417042\\n03417042_12105.JPEG\n",
      "imagenette2-320\\train\\n03417042\\n03417042_13279.JPEG\n"
     ]
    },
    {
     "name": "stderr",
     "output_type": "stream",
     "text": [
      " 64%|████████████████████████████████████████████████████▊                             | 47/73 [00:47<00:30,  1.16s/it]"
     ]
    },
    {
     "name": "stdout",
     "output_type": "stream",
     "text": [
      "imagenette2-320\\train\\n03417042\\n03417042_2156.JPEG\n",
      "imagenette2-320\\train\\n03417042\\n03417042_2159.JPEG\n",
      "imagenette2-320\\train\\n03417042\\n03417042_2236.JPEG\n",
      "imagenette2-320\\train\\n03417042\\n03417042_2654.JPEG\n"
     ]
    },
    {
     "name": "stderr",
     "output_type": "stream",
     "text": [
      " 66%|█████████████████████████████████████████████████████▉                            | 48/73 [00:48<00:27,  1.11s/it]"
     ]
    },
    {
     "name": "stdout",
     "output_type": "stream",
     "text": [
      "imagenette2-320\\train\\n03417042\\n03417042_27997.JPEG\n",
      "imagenette2-320\\train\\n03417042\\n03417042_3005.JPEG\n",
      "imagenette2-320\\train\\n03417042\\n03417042_3264.JPEG\n"
     ]
    },
    {
     "name": "stderr",
     "output_type": "stream",
     "text": [
      " 67%|███████████████████████████████████████████████████████                           | 49/73 [00:49<00:25,  1.08s/it]"
     ]
    },
    {
     "name": "stdout",
     "output_type": "stream",
     "text": [
      "imagenette2-320\\train\\n03417042\\n03417042_3796.JPEG\n",
      "imagenette2-320\\train\\n03417042\\n03417042_4516.JPEG\n"
     ]
    },
    {
     "name": "stderr",
     "output_type": "stream",
     "text": [
      " 70%|█████████████████████████████████████████████████████████▎                        | 51/73 [00:51<00:23,  1.06s/it]"
     ]
    },
    {
     "name": "stdout",
     "output_type": "stream",
     "text": [
      "imagenette2-320\\train\\n03417042\\n03417042_8966.JPEG\n",
      "imagenette2-320\\train\\n03417042\\n03417042_9239.JPEG\n"
     ]
    },
    {
     "name": "stderr",
     "output_type": "stream",
     "text": [
      " 71%|██████████████████████████████████████████████████████████▍                       | 52/73 [00:52<00:21,  1.04s/it]"
     ]
    },
    {
     "name": "stdout",
     "output_type": "stream",
     "text": [
      "imagenette2-320\\train\\n03425413\\ILSVRC2012_val_00029203.JPEG\n",
      "imagenette2-320\\train\\n03425413\\n03425413_12685.JPEG\n",
      "imagenette2-320\\train\\n03425413\\n03425413_12686.JPEG\n",
      "imagenette2-320\\train\\n03425413\\n03425413_12839.JPEG\n",
      "imagenette2-320\\train\\n03425413\\n03425413_13034.JPEG\n",
      "imagenette2-320\\train\\n03425413\\n03425413_13096.JPEG\n"
     ]
    },
    {
     "name": "stderr",
     "output_type": "stream",
     "text": [
      " 73%|███████████████████████████████████████████████████████████▌                      | 53/73 [00:53<00:20,  1.04s/it]"
     ]
    },
    {
     "name": "stdout",
     "output_type": "stream",
     "text": [
      "imagenette2-320\\train\\n03425413\\n03425413_13353.JPEG\n",
      "imagenette2-320\\train\\n03425413\\n03425413_14249.JPEG\n",
      "imagenette2-320\\train\\n03425413\\n03425413_14395.JPEG\n"
     ]
    },
    {
     "name": "stderr",
     "output_type": "stream",
     "text": [
      " 74%|████████████████████████████████████████████████████████████▋                     | 54/73 [00:55<00:20,  1.07s/it]"
     ]
    },
    {
     "name": "stdout",
     "output_type": "stream",
     "text": [
      "imagenette2-320\\train\\n03425413\\n03425413_15026.JPEG\n",
      "imagenette2-320\\train\\n03425413\\n03425413_15035.JPEG\n",
      "imagenette2-320\\train\\n03425413\\n03425413_15397.JPEG\n",
      "imagenette2-320\\train\\n03425413\\n03425413_15528.JPEG\n"
     ]
    },
    {
     "name": "stderr",
     "output_type": "stream",
     "text": [
      " 75%|█████████████████████████████████████████████████████████████▊                    | 55/73 [00:56<00:19,  1.10s/it]"
     ]
    },
    {
     "name": "stdout",
     "output_type": "stream",
     "text": [
      "imagenette2-320\\train\\n03425413\\n03425413_19117.JPEG\n",
      "imagenette2-320\\train\\n03425413\\n03425413_19208.JPEG\n"
     ]
    },
    {
     "name": "stderr",
     "output_type": "stream",
     "text": [
      " 77%|██████████████████████████████████████████████████████████████▉                   | 56/73 [00:57<00:19,  1.13s/it]"
     ]
    },
    {
     "name": "stdout",
     "output_type": "stream",
     "text": [
      "imagenette2-320\\train\\n03425413\\n03425413_20484.JPEG\n",
      "imagenette2-320\\train\\n03425413\\n03425413_20578.JPEG\n",
      "imagenette2-320\\train\\n03425413\\n03425413_20676.JPEG\n",
      "imagenette2-320\\train\\n03425413\\n03425413_20786.JPEG\n",
      "imagenette2-320\\train\\n03425413\\n03425413_20918.JPEG\n"
     ]
    },
    {
     "name": "stderr",
     "output_type": "stream",
     "text": [
      " 78%|████████████████████████████████████████████████████████████████                  | 57/73 [00:58<00:18,  1.15s/it]"
     ]
    },
    {
     "name": "stdout",
     "output_type": "stream",
     "text": [
      "imagenette2-320\\train\\n03425413\\n03425413_2625.JPEG\n",
      "imagenette2-320\\train\\n03425413\\n03425413_3493.JPEG\n"
     ]
    },
    {
     "name": "stderr",
     "output_type": "stream",
     "text": [
      " 79%|█████████████████████████████████████████████████████████████████▏                | 58/73 [00:59<00:18,  1.20s/it]"
     ]
    },
    {
     "name": "stdout",
     "output_type": "stream",
     "text": [
      "imagenette2-320\\train\\n03425413\\n03425413_5864.JPEG\n",
      "imagenette2-320\\train\\n03425413\\n03425413_638.JPEG\n",
      "imagenette2-320\\train\\n03425413\\n03425413_9117.JPEG\n"
     ]
    },
    {
     "name": "stderr",
     "output_type": "stream",
     "text": [
      " 81%|██████████████████████████████████████████████████████████████████▎               | 59/73 [01:01<00:16,  1.20s/it]"
     ]
    },
    {
     "name": "stdout",
     "output_type": "stream",
     "text": [
      "imagenette2-320\\train\\n03445777\\ILSVRC2012_val_00007755.JPEG\n",
      "imagenette2-320\\train\\n03445777\\ILSVRC2012_val_00012634.JPEG\n",
      "imagenette2-320\\train\\n03445777\\ILSVRC2012_val_00035918.JPEG\n",
      "imagenette2-320\\train\\n03445777\\n03445777_10027.JPEG\n",
      "imagenette2-320\\train\\n03445777\\n03445777_11389.JPEG\n",
      "imagenette2-320\\train\\n03445777\\n03445777_11789.JPEG\n"
     ]
    },
    {
     "name": "stderr",
     "output_type": "stream",
     "text": [
      " 82%|███████████████████████████████████████████████████████████████████▍              | 60/73 [01:02<00:14,  1.15s/it]"
     ]
    },
    {
     "name": "stdout",
     "output_type": "stream",
     "text": [
      "imagenette2-320\\train\\n03445777\\n03445777_13257.JPEG\n",
      "imagenette2-320\\train\\n03445777\\n03445777_16143.JPEG\n",
      "imagenette2-320\\train\\n03445777\\n03445777_16186.JPEG\n",
      "imagenette2-320\\train\\n03445777\\n03445777_16733.JPEG\n",
      "imagenette2-320\\train\\n03445777\\n03445777_16895.JPEG\n"
     ]
    },
    {
     "name": "stderr",
     "output_type": "stream",
     "text": [
      " 84%|████████████████████████████████████████████████████████████████████▌             | 61/73 [01:03<00:13,  1.11s/it]"
     ]
    },
    {
     "name": "stdout",
     "output_type": "stream",
     "text": [
      "imagenette2-320\\train\\n03445777\\n03445777_19926.JPEG\n",
      "imagenette2-320\\train\\n03445777\\n03445777_19933.JPEG\n"
     ]
    },
    {
     "name": "stderr",
     "output_type": "stream",
     "text": [
      " 85%|█████████████████████████████████████████████████████████████████████▋            | 62/73 [01:04<00:11,  1.07s/it]"
     ]
    },
    {
     "name": "stdout",
     "output_type": "stream",
     "text": [
      "imagenette2-320\\train\\n03445777\\n03445777_2646.JPEG\n",
      "imagenette2-320\\train\\n03445777\\n03445777_3296.JPEG\n",
      "imagenette2-320\\train\\n03445777\\n03445777_3444.JPEG\n"
     ]
    },
    {
     "name": "stderr",
     "output_type": "stream",
     "text": [
      " 86%|██████████████████████████████████████████████████████████████████████▊           | 63/73 [01:05<00:10,  1.05s/it]"
     ]
    },
    {
     "name": "stdout",
     "output_type": "stream",
     "text": [
      "imagenette2-320\\train\\n03445777\\n03445777_4883.JPEG\n",
      "imagenette2-320\\train\\n03445777\\n03445777_5325.JPEG\n"
     ]
    },
    {
     "name": "stderr",
     "output_type": "stream",
     "text": [
      " 88%|███████████████████████████████████████████████████████████████████████▉          | 64/73 [01:06<00:09,  1.04s/it]"
     ]
    },
    {
     "name": "stdout",
     "output_type": "stream",
     "text": [
      "imagenette2-320\\train\\n03445777\\n03445777_5743.JPEG\n",
      "imagenette2-320\\train\\n03445777\\n03445777_624.JPEG\n",
      "imagenette2-320\\train\\n03445777\\n03445777_715.JPEG\n"
     ]
    },
    {
     "name": "stderr",
     "output_type": "stream",
     "text": [
      " 89%|█████████████████████████████████████████████████████████████████████████         | 65/73 [01:07<00:08,  1.06s/it]"
     ]
    },
    {
     "name": "stdout",
     "output_type": "stream",
     "text": [
      "imagenette2-320\\train\\n03445777\\n03445777_785.JPEG\n",
      "imagenette2-320\\train\\n03445777\\n03445777_8683.JPEG\n",
      "imagenette2-320\\train\\n03445777\\n03445777_8829.JPEG\n"
     ]
    },
    {
     "name": "stderr",
     "output_type": "stream",
     "text": [
      " 92%|███████████████████████████████████████████████████████████████████████████▎      | 67/73 [01:09<00:06,  1.03s/it]"
     ]
    },
    {
     "name": "stdout",
     "output_type": "stream",
     "text": [
      "imagenette2-320\\train\\n03888257\\n03888257_1389.JPEG\n"
     ]
    },
    {
     "name": "stderr",
     "output_type": "stream",
     "text": [
      " 93%|████████████████████████████████████████████████████████████████████████████▍     | 68/73 [01:10<00:05,  1.04s/it]"
     ]
    },
    {
     "name": "stdout",
     "output_type": "stream",
     "text": [
      "imagenette2-320\\train\\n03888257\\n03888257_16369.JPEG\n",
      "imagenette2-320\\train\\n03888257\\n03888257_16595.JPEG\n"
     ]
    },
    {
     "name": "stderr",
     "output_type": "stream",
     "text": [
      " 96%|██████████████████████████████████████████████████████████████████████████████▋   | 70/73 [01:12<00:03,  1.03s/it]"
     ]
    },
    {
     "name": "stdout",
     "output_type": "stream",
     "text": [
      "imagenette2-320\\train\\n03888257\\n03888257_28569.JPEG\n"
     ]
    },
    {
     "name": "stderr",
     "output_type": "stream",
     "text": [
      " 97%|███████████████████████████████████████████████████████████████████████████████▊  | 71/73 [01:13<00:02,  1.03s/it]"
     ]
    },
    {
     "name": "stdout",
     "output_type": "stream",
     "text": [
      "imagenette2-320\\train\\n03888257\\n03888257_36686.JPEG\n",
      "imagenette2-320\\train\\n03888257\\n03888257_40359.JPEG\n"
     ]
    },
    {
     "name": "stderr",
     "output_type": "stream",
     "text": [
      " 99%|████████████████████████████████████████████████████████████████████████████████▉ | 72/73 [01:14<00:01,  1.03s/it]"
     ]
    },
    {
     "name": "stdout",
     "output_type": "stream",
     "text": [
      "imagenette2-320\\train\\n03888257\\n03888257_5316.JPEG\n",
      "imagenette2-320\\train\\n03888257\\n03888257_64147.JPEG\n"
     ]
    },
    {
     "name": "stderr",
     "output_type": "stream",
     "text": [
      "100%|██████████████████████████████████████████████████████████████████████████████████| 73/73 [01:15<00:00,  1.03s/it]\n"
     ]
    }
   ],
   "source": [
    "features, labels = get_img_training_data(Path('imagenette2-320')/'train')"
   ]
  },
  {
   "cell_type": "markdown",
   "metadata": {},
   "source": [
    "Setup our train function,to do a hyperparam sweep using an rf classifier which is now called `tune`\n",
    "\n"
   ]
  },
  {
   "cell_type": "code",
   "execution_count": 5,
   "metadata": {},
   "outputs": [],
   "source": [
    "def tune_grid(X, y,         # Our data as before \n",
    "         param_grid,   # Our search parameters\n",
    "         cv=None,      # A CV strategy of our choice\n",
    "         n_jobs=None): # number of parallel jobs \n",
    "\n",
    "    # as before except not parameterised\n",
    "    pipeline = make_pipeline(\n",
    "            RobustScaler(),\n",
    "            RandomForestClassifier(\n",
    "                random_state=42 # we only set the random state!\n",
    "            )\n",
    "        )\n",
    "    \n",
    "    grid_search = GridSearchCV(pipeline,\n",
    "                           param_grid,\n",
    "                           scoring='f1_micro',\n",
    "                           cv=cv,\n",
    "                           n_jobs=n_jobs,\n",
    "                              verbose=10)\n",
    "    \n",
    "    grid_search.fit(X, y)\n",
    "        \n",
    "    return grid_search.cv_results_, grid_search.best_index_,pipeline"
   ]
  },
  {
   "cell_type": "markdown",
   "metadata": {},
   "source": [
    "## time to search"
   ]
  },
  {
   "cell_type": "code",
   "execution_count": 7,
   "metadata": {},
   "outputs": [],
   "source": [
    "from scipy.stats import norm\n",
    "from pprint import pprint\n",
    "import time\n",
    "\n",
    "def print_some_facts(results, best_index, tic, toc):\n",
    "    print(\"K Fold Tuning Results\")\n",
    "    print(f\"Elapsed Time {toc - tic:0.4f} seconds\")\n",
    "    print(\"Best Index\", best_index)\n",
    "    print(\"Best Param Set:\")\n",
    "    pprint(results[\"params\"][best_index])\n",
    "    print(f\"F1 Score {results['mean_test_score'][best_index]:.4f} +/- {results['std_test_score'][best_index]}\")\n",
    "    \n",
    "\n",
    "    \n",
    "    \n",
    "    \n",
    "def plot_some_results(results):\n",
    "    fig, ax = plt.subplots(1, 1, figsize=(16,6))\n",
    "    x = np.linspace(0.85, 1.0, 100)\n",
    "\n",
    "    mu = results['mean_test_score']\n",
    "    sigma = results['std_test_score']\n",
    "    n_estimators = [p[\"randomforestclassifier__n_estimators\"] for p in results[\"params\"]]\n",
    "\n",
    "    lines = []\n",
    "    for mu, sigma in zip(results['mean_test_score'], results['std_test_score']):\n",
    "        pdf = norm.pdf(x, mu, sigma)\n",
    "        line, = ax.plot(x, pdf, alpha=0.6)\n",
    "        #line, = fig.add_subplot(x, pdf, alpha=0.6)\n",
    "        ax.axvline(mu, color=line.get_color())\n",
    "        ax.text(mu, pdf.max(), f\"{mu:.3f}\", color=line.get_color(), fontsize=14)\n",
    "        lines.append(line)\n",
    "\n",
    "    plt.legend(handles=lines, labels=n_estimators, title=\"n estimators\")\n",
    "    ax.set_title(f\"Average F1 Scores\")\n",
    "    fig.savefig('f1_score_n_estimators.png')\n",
    "    \n",
    "    \n",
    "    \n",
    "# Take top N models\n",
    "def take_n_best(x, n):\n",
    "    idxs = [xx-1 for xx in x[\"rank_test_score\"][:n]]\n",
    "    y = { k:np.array(v)[idxs] for k,v in x.items() }\n",
    "    y[\"rank_test_score\"] = list(range(0, len(idxs)))\n",
    "    return y, 0"
   ]
  },
  {
   "cell_type": "code",
   "execution_count": null,
   "metadata": {},
   "outputs": [],
   "source": [
    "from pprint import pprint\n",
    "import time\n",
    "\n",
    "# setup a parameter grid, other possible params\n",
    "#\n",
    "# criterion              {“gini”, “entropy”}, default=”gini”\n",
    "# max_depth              int, default=None\n",
    "# min_samples_leaf       int or float, default=1\n",
    "# max_features           “auto”, “sqrt”, “log2”}, int or float, default=”auto”\n",
    "# bootstrap              bool, default=True\n",
    "#\n",
    "\n",
    "#'randomforestclassifier__ is the component of the pipeline.n_estimators is the hyperparam\n",
    "# for logreg:logisticregressionclassifier__l1_lambda etc.\n",
    "\n",
    "param_grid = {\n",
    "  'randomforestclassifier__n_estimators': [1,5,15,50,100]\n",
    "}\n",
    "\n",
    "\n",
    "# run the grid search\n",
    "tic = time.perf_counter()\n",
    "results, best_index = tune_grid(features,\n",
    "                           labels,\n",
    "                           param_grid, \n",
    "                           cv=StratifiedKFold(n_splits=5),\n",
    "                           n_jobs=3)\n",
    "toc = time.perf_counter()\n",
    "\n",
    "\n",
    "\n",
    "def print_some_facts(results, best_index, tic, toc):\n",
    "    print(\"K Fold Tuning Results\")\n",
    "    print(f\"Elapsed Time {toc - tic:0.4f} seconds\")\n",
    "    print(\"Best Index\", best_index)\n",
    "    print(\"Best Param Set:\")\n",
    "    pprint(results[\"params\"][best_index])\n",
    "    print(f\"F1 Score {results['mean_test_score'][best_index]:.4f} +/- {results['std_test_score'][best_index]}\")\n",
    "    \n",
    "print_some_facts(results, best_index, tic, toc)"
   ]
  },
  {
   "cell_type": "code",
   "execution_count": null,
   "metadata": {},
   "outputs": [],
   "source": [
    "## one metric value per \n",
    "results['mean_test_score'],results['std_test_score']"
   ]
  },
  {
   "cell_type": "code",
   "execution_count": null,
   "metadata": {},
   "outputs": [],
   "source": [
    "from scipy.stats import norm\n",
    "\n",
    "def plot_some_results(results):\n",
    "    fig, ax = plt.subplots(1, 1, figsize=(16,6))\n",
    "    x = np.linspace(0.85, 1.0, 100)\n",
    "\n",
    "    mu = results['mean_test_score']\n",
    "    sigma = results['std_test_score']\n",
    "    n_estimators = [p[\"randomforestclassifier__n_estimators\"] for p in results[\"params\"]]\n",
    "\n",
    "    lines = []\n",
    "    for mu, sigma in zip(results['mean_test_score'], results['std_test_score']):\n",
    "        pdf = norm.pdf(x, mu, sigma)\n",
    "        line, = ax.plot(x, pdf, alpha=0.6)\n",
    "        #line, = fig.add_subplot(x, pdf, alpha=0.6)\n",
    "        ax.axvline(mu, color=line.get_color())\n",
    "        ax.text(mu, pdf.max(), f\"{mu:.3f}\", color=line.get_color(), fontsize=14)\n",
    "        lines.append(line)\n",
    "\n",
    "    plt.legend(handles=lines, labels=n_estimators, title=\"n estimators\")\n",
    "    ax.set_title(f\"Average F1 Scores\")\n",
    "    fig.savefig('f1_score_n_estimators.png')\n",
    "    \n",
    "plot_some_results(results)"
   ]
  },
  {
   "cell_type": "markdown",
   "metadata": {},
   "source": [
    "## Increase the size of the search space"
   ]
  },
  {
   "cell_type": "code",
   "execution_count": null,
   "metadata": {},
   "outputs": [],
   "source": []
  },
  {
   "cell_type": "code",
   "execution_count": null,
   "metadata": {},
   "outputs": [],
   "source": [
    "#\n",
    "# 3D search space - 30 combinations - 150 calls to fit\n",
    "#\n",
    "\n",
    "param_grid = {\n",
    "    'randomforestclassifier__n_estimators': [1,5,15,50,100],\n",
    "    'randomforestclassifier__criterion': ['gini', 'entropy'],\n",
    "    'randomforestclassifier__bootstrap': [True, False]\n",
    "}\n",
    "\n",
    "tic = time.perf_counter()\n",
    "results_grid, best_index = tune_grid(features, labels,\n",
    "                           param_grid, \n",
    "                           cv=StratifiedKFold(n_splits=5),\n",
    "                           n_jobs=4)\n",
    "toc = time.perf_counter()"
   ]
  },
  {
   "cell_type": "code",
   "execution_count": null,
   "metadata": {},
   "outputs": [],
   "source": [
    "# Take top N models\n",
    "def take_n_best(x, n):\n",
    "    idxs = [xx-1 for xx in x[\"rank_test_score\"][:n]]\n",
    "    y = { k:np.array(v)[idxs] for k,v in x.items() }\n",
    "    y[\"rank_test_score\"] = list(range(0, len(idxs)))\n",
    "    return y, 0"
   ]
  },
  {
   "cell_type": "code",
   "execution_count": null,
   "metadata": {},
   "outputs": [],
   "source": [
    "from pprint import pprint\n",
    "pprint(results[\"params\"][best_index])"
   ]
  },
  {
   "cell_type": "code",
   "execution_count": null,
   "metadata": {},
   "outputs": [],
   "source": [
    "print_some_facts(results_grid, best_index, tic, toc)\n",
    "\n",
    "top_results, best_index = take_n_best(results_grid, 10)\n",
    "\n",
    "plot_some_results(top_results)"
   ]
  },
  {
   "cell_type": "markdown",
   "metadata": {},
   "source": [
    "## Further increase the size of the search space"
   ]
  },
  {
   "cell_type": "code",
   "execution_count": null,
   "metadata": {},
   "outputs": [],
   "source": [
    "#\n",
    "# 6D search space - 960 combinations - 4800 calls to fit\n",
    "#\n",
    "\n",
    "param_grid = {\n",
    "    'randomforestclassifier__n_estimators': [1,5,15,50,100],\n",
    "    'randomforestclassifier__criterion': ['gini', 'entropy'],\n",
    "    'randomforestclassifier__max_features': ['auto', 'sqrt', 'log2'],\n",
    "    'randomforestclassifier__bootstrap': [True, False],\n",
    "    'randomforestclassifier__min_samples_leaf': [1,2,3,4],\n",
    "    'randomforestclassifier__min_samples_split': [3,4,5,6] \n",
    "}\n",
    "\n",
    "tic = time.perf_counter()\n",
    "results, best_index = tune_grid(features, labels,\n",
    "                           param_grid, \n",
    "                           cv=StratifiedKFold(n_splits=5),\n",
    "                           n_jobs=5)\n",
    "toc = time.perf_counter()"
   ]
  },
  {
   "cell_type": "code",
   "execution_count": null,
   "metadata": {},
   "outputs": [],
   "source": [
    "print_some_facts(results, best_index, tic, toc)\n",
    "\n",
    "top_results, best_index = take_n_best(results, 10)\n",
    "\n",
    "plot_some_results(top_results)"
   ]
  },
  {
   "cell_type": "markdown",
   "metadata": {},
   "source": [
    "## Random Search!\n",
    "\n"
   ]
  },
  {
   "cell_type": "code",
   "execution_count": 1,
   "metadata": {},
   "outputs": [],
   "source": [
    "from sklearn.model_selection import RandomizedSearchCV"
   ]
  },
  {
   "cell_type": "code",
   "execution_count": 62,
   "metadata": {},
   "outputs": [],
   "source": [
    "def rand_tune(X, y, param_dist, n_iter=10,\n",
    "             cv=None,\n",
    "             n_jobs=None):\n",
    "\n",
    "    pipeline = make_pipeline(\n",
    "            RobustScaler(),\n",
    "            RandomForestClassifier(random_state=42)\n",
    "        )\n",
    "    \n",
    "    \n",
    "    #\n",
    "    # Same as before, except now we use the RandomizedSearchCV\n",
    "    #\n",
    "    grid_search = RandomizedSearchCV(pipeline,\n",
    "                                   param_dist,\n",
    "                                   n_iter=n_iter,\n",
    "                                   scoring='f1_micro',\n",
    "                                   cv=cv,\n",
    "                                   n_jobs=n_jobs,verbose=100)\n",
    "    \n",
    "    grid_search.fit(X, y)\n",
    "        \n",
    "    return grid_search.cv_results_, grid_search.best_index_,pipeline"
   ]
  },
  {
   "cell_type": "markdown",
   "metadata": {},
   "source": [
    "## Set up random grid\n",
    "\n"
   ]
  },
  {
   "cell_type": "code",
   "execution_count": 61,
   "metadata": {},
   "outputs": [],
   "source": [
    "import scipy.stats as stats\n",
    "\n",
    "param_dist = {\n",
    "    'randomforestclassifier__n_estimators': stats.randint(100,200),\n",
    "    'randomforestclassifier__criterion': ['gini', 'entropy'],\n",
    "    'randomforestclassifier__max_features': ['auto', 'sqrt', 'log2'],\n",
    "    'randomforestclassifier__bootstrap': [True, False],\n",
    "    'randomforestclassifier__min_samples_leaf': stats.randint(1,5),\n",
    "    'randomforestclassifier__min_samples_split': stats.randint(3,6) \n",
    "}"
   ]
  },
  {
   "cell_type": "code",
   "execution_count": 63,
   "metadata": {},
   "outputs": [
    {
     "name": "stdout",
     "output_type": "stream",
     "text": [
      "Fitting 3 folds for each of 50 candidates, totalling 150 fits\n"
     ]
    }
   ],
   "source": [
    "#tic = time.perf_counter()\n",
    "results, best_index,pipeline = rand_tune(features,\n",
    "                                labels,\n",
    "                                param_dist,\n",
    "                                \n",
    "                                #\n",
    "                                # Here we set the number of random samples we are attempting\n",
    "                                #\n",
    "                                n_iter=50,\n",
    "                                \n",
    "                                cv=StratifiedKFold(n_splits=3),\n",
    "                                n_jobs=5)\n",
    "#toc = time.perf_counter()"
   ]
  },
  {
   "cell_type": "markdown",
   "metadata": {},
   "source": [
    "## Fit best estimator  to entire train set\n",
    "\n"
   ]
  },
  {
   "cell_type": "code",
   "execution_count": 67,
   "metadata": {},
   "outputs": [
    {
     "data": {
      "text/plain": [
       "{'randomforestclassifier__bootstrap': True,\n",
       " 'randomforestclassifier__criterion': 'gini',\n",
       " 'randomforestclassifier__max_features': 'auto',\n",
       " 'randomforestclassifier__min_samples_leaf': 4,\n",
       " 'randomforestclassifier__min_samples_split': 5,\n",
       " 'randomforestclassifier__n_estimators': 137}"
      ]
     },
     "execution_count": 67,
     "metadata": {},
     "output_type": "execute_result"
    }
   ],
   "source": [
    "results['params'][best_index]\n",
    "best_estimator=pipeline.set_params(**results['params'][best_index])\n",
    "best_estimator.fit(features,labels)"
   ]
  },
  {
   "cell_type": "markdown",
   "metadata": {},
   "source": [
    "## Extract validation labels and features\n",
    "\n"
   ]
  },
  {
   "cell_type": "code",
   "execution_count": 60,
   "metadata": {
    "collapsed": true,
    "jupyter": {
     "outputs_hidden": true
    },
    "tags": []
   },
   "outputs": [
    {
     "name": "stderr",
     "output_type": "stream",
     "text": [
      "  3%|██▊                                                                                | 1/30 [00:00<00:26,  1.08it/s]"
     ]
    },
    {
     "name": "stdout",
     "output_type": "stream",
     "text": [
      "imagenette2-320\\val\\n01440764\\n01440764_15560.JPEG\n"
     ]
    },
    {
     "name": "stderr",
     "output_type": "stream",
     "text": [
      " 10%|████████▎                                                                          | 3/30 [00:02<00:26,  1.03it/s]"
     ]
    },
    {
     "name": "stdout",
     "output_type": "stream",
     "text": [
      "imagenette2-320\\val\\n02102040\\n02102040_1980.JPEG\n"
     ]
    },
    {
     "name": "stderr",
     "output_type": "stream",
     "text": [
      " 13%|███████████                                                                        | 4/30 [00:03<00:24,  1.05it/s]"
     ]
    },
    {
     "name": "stdout",
     "output_type": "stream",
     "text": [
      "imagenette2-320\\val\\n02102040\\n02102040_4070.JPEG\n"
     ]
    },
    {
     "name": "stderr",
     "output_type": "stream",
     "text": [
      " 17%|█████████████▊                                                                     | 5/30 [00:04<00:23,  1.05it/s]"
     ]
    },
    {
     "name": "stdout",
     "output_type": "stream",
     "text": [
      "imagenette2-320\\val\\n02102040\\n02102040_681.JPEG\n"
     ]
    },
    {
     "name": "stderr",
     "output_type": "stream",
     "text": [
      " 20%|████████████████▌                                                                  | 6/30 [00:05<00:22,  1.05it/s]"
     ]
    },
    {
     "name": "stdout",
     "output_type": "stream",
     "text": [
      "imagenette2-320\\val\\n02102040\\n02102040_8320.JPEG\n",
      "imagenette2-320\\val\\n02979186\\n02979186_11410.JPEG\n",
      "imagenette2-320\\val\\n02979186\\n02979186_13722.JPEG\n"
     ]
    },
    {
     "name": "stderr",
     "output_type": "stream",
     "text": [
      " 23%|███████████████████▎                                                               | 7/30 [00:06<00:22,  1.04it/s]"
     ]
    },
    {
     "name": "stdout",
     "output_type": "stream",
     "text": [
      "imagenette2-320\\val\\n02979186\\n02979186_15951.JPEG\n"
     ]
    },
    {
     "name": "stderr",
     "output_type": "stream",
     "text": [
      " 27%|██████████████████████▏                                                            | 8/30 [00:07<00:21,  1.05it/s]"
     ]
    },
    {
     "name": "stdout",
     "output_type": "stream",
     "text": [
      "imagenette2-320\\val\\n02979186\\n02979186_8971.JPEG\n"
     ]
    },
    {
     "name": "stderr",
     "output_type": "stream",
     "text": [
      " 30%|████████████████████████▉                                                          | 9/30 [00:08<00:19,  1.05it/s]"
     ]
    },
    {
     "name": "stdout",
     "output_type": "stream",
     "text": [
      "imagenette2-320\\val\\n03000684\\n03000684_16481.JPEG\n"
     ]
    },
    {
     "name": "stderr",
     "output_type": "stream",
     "text": [
      " 33%|███████████████████████████▎                                                      | 10/30 [00:09<00:19,  1.03it/s]"
     ]
    },
    {
     "name": "stdout",
     "output_type": "stream",
     "text": [
      "imagenette2-320\\val\\n03000684\\n03000684_2220.JPEG\n"
     ]
    },
    {
     "name": "stderr",
     "output_type": "stream",
     "text": [
      " 37%|██████████████████████████████                                                    | 11/30 [00:10<00:18,  1.02it/s]"
     ]
    },
    {
     "name": "stdout",
     "output_type": "stream",
     "text": [
      "imagenette2-320\\val\\n03000684\\n03000684_34762.JPEG\n"
     ]
    },
    {
     "name": "stderr",
     "output_type": "stream",
     "text": [
      " 40%|████████████████████████████████▊                                                 | 12/30 [00:11<00:17,  1.02it/s]"
     ]
    },
    {
     "name": "stdout",
     "output_type": "stream",
     "text": [
      "imagenette2-320\\val\\n03028079\\ILSVRC2012_val_00003351.JPEG\n",
      "imagenette2-320\\val\\n03028079\\ILSVRC2012_val_00007400.JPEG\n",
      "imagenette2-320\\val\\n03028079\\n03028079_116072.JPEG\n",
      "imagenette2-320\\val\\n03028079\\n03028079_12802.JPEG\n",
      "imagenette2-320\\val\\n03028079\\n03028079_13311.JPEG\n",
      "imagenette2-320\\val\\n03028079\\n03028079_15381.JPEG\n"
     ]
    },
    {
     "name": "stderr",
     "output_type": "stream",
     "text": [
      " 43%|███████████████████████████████████▌                                              | 13/30 [00:12<00:16,  1.02it/s]"
     ]
    },
    {
     "name": "stdout",
     "output_type": "stream",
     "text": [
      "imagenette2-320\\val\\n03028079\\n03028079_2342.JPEG\n",
      "imagenette2-320\\val\\n03028079\\n03028079_23510.JPEG\n",
      "imagenette2-320\\val\\n03028079\\n03028079_24681.JPEG\n",
      "imagenette2-320\\val\\n03028079\\n03028079_3260.JPEG\n",
      "imagenette2-320\\val\\n03028079\\n03028079_3362.JPEG\n"
     ]
    },
    {
     "name": "stderr",
     "output_type": "stream",
     "text": [
      " 47%|██████████████████████████████████████▎                                           | 14/30 [00:13<00:15,  1.04it/s]"
     ]
    },
    {
     "name": "stdout",
     "output_type": "stream",
     "text": [
      "imagenette2-320\\val\\n03028079\\n03028079_72470.JPEG\n",
      "imagenette2-320\\val\\n03028079\\n03028079_7260.JPEG\n"
     ]
    },
    {
     "name": "stderr",
     "output_type": "stream",
     "text": [
      " 50%|█████████████████████████████████████████                                         | 15/30 [00:14<00:14,  1.04it/s]"
     ]
    },
    {
     "name": "stdout",
     "output_type": "stream",
     "text": [
      "imagenette2-320\\val\\n03028079\\n03028079_8990.JPEG\n",
      "imagenette2-320\\val\\n03028079\\n03028079_901.JPEG\n",
      "imagenette2-320\\val\\n03394916\\ILSVRC2012_val_00003620.JPEG\n",
      "imagenette2-320\\val\\n03394916\\ILSVRC2012_val_00015542.JPEG\n",
      "imagenette2-320\\val\\n03394916\\ILSVRC2012_val_00025761.JPEG\n",
      "imagenette2-320\\val\\n03394916\\n03394916_24391.JPEG\n"
     ]
    },
    {
     "name": "stderr",
     "output_type": "stream",
     "text": [
      " 53%|███████████████████████████████████████████▋                                      | 16/30 [00:15<00:13,  1.03it/s]"
     ]
    },
    {
     "name": "stdout",
     "output_type": "stream",
     "text": [
      "imagenette2-320\\val\\n03394916\\n03394916_31032.JPEG\n",
      "imagenette2-320\\val\\n03394916\\n03394916_32272.JPEG\n",
      "imagenette2-320\\val\\n03394916\\n03394916_32870.JPEG\n",
      "imagenette2-320\\val\\n03394916\\n03394916_33101.JPEG\n",
      "imagenette2-320\\val\\n03394916\\n03394916_35811.JPEG\n",
      "imagenette2-320\\val\\n03394916\\n03394916_37171.JPEG\n",
      "imagenette2-320\\val\\n03394916\\n03394916_37510.JPEG\n"
     ]
    },
    {
     "name": "stderr",
     "output_type": "stream",
     "text": [
      " 57%|██████████████████████████████████████████████▍                                   | 17/30 [00:16<00:12,  1.03it/s]"
     ]
    },
    {
     "name": "stdout",
     "output_type": "stream",
     "text": [
      "imagenette2-320\\val\\n03394916\\n03394916_42422.JPEG\n",
      "imagenette2-320\\val\\n03394916\\n03394916_42671.JPEG\n",
      "imagenette2-320\\val\\n03394916\\n03394916_43382.JPEG\n",
      "imagenette2-320\\val\\n03394916\\n03394916_47330.JPEG\n",
      "imagenette2-320\\val\\n03394916\\n03394916_56850.JPEG\n",
      "imagenette2-320\\val\\n03394916\\n03394916_60810.JPEG\n"
     ]
    },
    {
     "name": "stderr",
     "output_type": "stream",
     "text": [
      " 67%|██████████████████████████████████████████████████████▋                           | 20/30 [00:19<00:09,  1.01it/s]"
     ]
    },
    {
     "name": "stdout",
     "output_type": "stream",
     "text": [
      "imagenette2-320\\val\\n03417042\\n03417042_7670.JPEG\n"
     ]
    },
    {
     "name": "stderr",
     "output_type": "stream",
     "text": [
      " 70%|█████████████████████████████████████████████████████████▍                        | 21/30 [00:20<00:09,  1.00s/it]"
     ]
    },
    {
     "name": "stdout",
     "output_type": "stream",
     "text": [
      "imagenette2-320\\val\\n03425413\\n03425413_12092.JPEG\n",
      "imagenette2-320\\val\\n03425413\\n03425413_12712.JPEG\n",
      "imagenette2-320\\val\\n03425413\\n03425413_12980.JPEG\n",
      "imagenette2-320\\val\\n03425413\\n03425413_13072.JPEG\n",
      "imagenette2-320\\val\\n03425413\\n03425413_13381.JPEG\n",
      "imagenette2-320\\val\\n03425413\\n03425413_13390.JPEG\n"
     ]
    },
    {
     "name": "stderr",
     "output_type": "stream",
     "text": [
      " 73%|████████████████████████████████████████████████████████████▏                     | 22/30 [00:21<00:07,  1.01it/s]"
     ]
    },
    {
     "name": "stdout",
     "output_type": "stream",
     "text": [
      "imagenette2-320\\val\\n03425413\\n03425413_13971.JPEG\n",
      "imagenette2-320\\val\\n03425413\\n03425413_14722.JPEG\n",
      "imagenette2-320\\val\\n03425413\\n03425413_15312.JPEG\n",
      "imagenette2-320\\val\\n03425413\\n03425413_15630.JPEG\n"
     ]
    },
    {
     "name": "stderr",
     "output_type": "stream",
     "text": [
      " 77%|██████████████████████████████████████████████████████████████▊                   | 23/30 [00:22<00:07,  1.00s/it]"
     ]
    },
    {
     "name": "stdout",
     "output_type": "stream",
     "text": [
      "imagenette2-320\\val\\n03425413\\n03425413_19251.JPEG\n",
      "imagenette2-320\\val\\n03425413\\n03425413_19271.JPEG\n",
      "imagenette2-320\\val\\n03425413\\n03425413_20360.JPEG\n",
      "imagenette2-320\\val\\n03425413\\n03425413_251.JPEG\n",
      "imagenette2-320\\val\\n03425413\\n03425413_27052.JPEG\n"
     ]
    },
    {
     "name": "stderr",
     "output_type": "stream",
     "text": [
      " 80%|█████████████████████████████████████████████████████████████████▌                | 24/30 [00:23<00:06,  1.03s/it]"
     ]
    },
    {
     "name": "stdout",
     "output_type": "stream",
     "text": [
      "imagenette2-320\\val\\n03425413\\n03425413_7022.JPEG\n",
      "imagenette2-320\\val\\n03445777\\ILSVRC2012_val_00025591.JPEG\n"
     ]
    },
    {
     "name": "stderr",
     "output_type": "stream",
     "text": [
      " 83%|████████████████████████████████████████████████████████████████████▎             | 25/30 [00:24<00:05,  1.06s/it]"
     ]
    },
    {
     "name": "stdout",
     "output_type": "stream",
     "text": [
      "imagenette2-320\\val\\n03445777\\n03445777_2151.JPEG\n"
     ]
    },
    {
     "name": "stderr",
     "output_type": "stream",
     "text": [
      " 90%|█████████████████████████████████████████████████████████████████████████▊        | 27/30 [00:26<00:03,  1.11s/it]"
     ]
    },
    {
     "name": "stdout",
     "output_type": "stream",
     "text": [
      "imagenette2-320\\val\\n03445777\\n03445777_8971.JPEG\n",
      "imagenette2-320\\val\\n03445777\\n03445777_9292.JPEG\n",
      "imagenette2-320\\val\\n03445777\\n03445777_9880.JPEG\n"
     ]
    },
    {
     "name": "stderr",
     "output_type": "stream",
     "text": [
      " 97%|███████████████████████████████████████████████████████████████████████████████▎  | 29/30 [00:29<00:01,  1.15s/it]"
     ]
    },
    {
     "name": "stdout",
     "output_type": "stream",
     "text": [
      "imagenette2-320\\val\\n03888257\\n03888257_29500.JPEG\n",
      "imagenette2-320\\val\\n03888257\\n03888257_49381.JPEG\n"
     ]
    },
    {
     "name": "stderr",
     "output_type": "stream",
     "text": [
      "100%|██████████████████████████████████████████████████████████████████████████████████| 30/30 [00:30<00:00,  1.02s/it]\n"
     ]
    }
   ],
   "source": [
    "features_val, label_val = get_img_training_data(Path('imagenette2-320')/'val')"
   ]
  },
  {
   "cell_type": "markdown",
   "metadata": {},
   "source": [
    "## evaluate metrics on val set \n",
    "\n"
   ]
  },
  {
   "cell_type": "code",
   "execution_count": 73,
   "metadata": {},
   "outputs": [],
   "source": [
    "y_pred=best_estimator.predict(features_val)"
   ]
  },
  {
   "cell_type": "code",
   "execution_count": 75,
   "metadata": {},
   "outputs": [
    {
     "data": {
      "text/plain": [
       "0.9778713611104868"
      ]
     },
     "execution_count": 75,
     "metadata": {},
     "output_type": "execute_result"
    }
   ],
   "source": [
    "sklearn.metrics.balanced_accuracy_score(y_pred,label_val)"
   ]
  },
  {
   "cell_type": "code",
   "execution_count": null,
   "metadata": {},
   "outputs": [],
   "source": []
  },
  {
   "cell_type": "code",
   "execution_count": 121,
   "metadata": {},
   "outputs": [
    {
     "data": {
      "text/plain": [
       "0.9777306468716861"
      ]
     },
     "execution_count": 121,
     "metadata": {},
     "output_type": "execute_result"
    }
   ],
   "source": [
    "f1_score(label_val,y_pred,average='micro')"
   ]
  },
  {
   "cell_type": "code",
   "execution_count": 33,
   "metadata": {},
   "outputs": [],
   "source": [
    "import sklearn"
   ]
  },
  {
   "cell_type": "code",
   "execution_count": 51,
   "metadata": {},
   "outputs": [
    {
     "data": {
      "text/plain": [
       "0.759010786635096"
      ]
     },
     "execution_count": 51,
     "metadata": {},
     "output_type": "execute_result"
    }
   ],
   "source": [
    "sklearn.metrics.accuracy_score(label_val,val_preds)"
   ]
  },
  {
   "cell_type": "code",
   "execution_count": 85,
   "metadata": {},
   "outputs": [],
   "source": [
    "import pandas as pd"
   ]
  },
  {
   "cell_type": "code",
   "execution_count": 88,
   "metadata": {},
   "outputs": [
    {
     "data": {
      "text/html": [
       "<div>\n",
       "<style scoped>\n",
       "    .dataframe tbody tr th:only-of-type {\n",
       "        vertical-align: middle;\n",
       "    }\n",
       "\n",
       "    .dataframe tbody tr th {\n",
       "        vertical-align: top;\n",
       "    }\n",
       "\n",
       "    .dataframe thead th {\n",
       "        text-align: right;\n",
       "    }\n",
       "</style>\n",
       "<table border=\"1\" class=\"dataframe\">\n",
       "  <thead>\n",
       "    <tr style=\"text-align: right;\">\n",
       "      <th></th>\n",
       "      <th>ID</th>\n",
       "      <th>ClassName</th>\n",
       "    </tr>\n",
       "  </thead>\n",
       "  <tbody>\n",
       "    <tr>\n",
       "      <th>0</th>\n",
       "      <td>n01440764</td>\n",
       "      <td>tench, Tinca tinca</td>\n",
       "    </tr>\n",
       "    <tr>\n",
       "      <th>1</th>\n",
       "      <td>n01443537</td>\n",
       "      <td>goldfish, Carassius auratus</td>\n",
       "    </tr>\n",
       "    <tr>\n",
       "      <th>2</th>\n",
       "      <td>n01484850</td>\n",
       "      <td>great white shark, white shark, man-eater, man...</td>\n",
       "    </tr>\n",
       "    <tr>\n",
       "      <th>3</th>\n",
       "      <td>n01491361</td>\n",
       "      <td>tiger shark, Galeocerdo cuvieri</td>\n",
       "    </tr>\n",
       "    <tr>\n",
       "      <th>4</th>\n",
       "      <td>n01494475</td>\n",
       "      <td>hammerhead, hammerhead shark</td>\n",
       "    </tr>\n",
       "    <tr>\n",
       "      <th>...</th>\n",
       "      <td>...</td>\n",
       "      <td>...</td>\n",
       "    </tr>\n",
       "    <tr>\n",
       "      <th>995</th>\n",
       "      <td>n13044778</td>\n",
       "      <td>earthstar</td>\n",
       "    </tr>\n",
       "    <tr>\n",
       "      <th>996</th>\n",
       "      <td>n13052670</td>\n",
       "      <td>hen-of-the-woods, hen of the woods, Polyporus ...</td>\n",
       "    </tr>\n",
       "    <tr>\n",
       "      <th>997</th>\n",
       "      <td>n13054560</td>\n",
       "      <td>bolete</td>\n",
       "    </tr>\n",
       "    <tr>\n",
       "      <th>998</th>\n",
       "      <td>n13133613</td>\n",
       "      <td>ear, spike, capitulum</td>\n",
       "    </tr>\n",
       "    <tr>\n",
       "      <th>999</th>\n",
       "      <td>n15075141</td>\n",
       "      <td>toilet tissue, toilet paper, bathroom tissue</td>\n",
       "    </tr>\n",
       "  </tbody>\n",
       "</table>\n",
       "<p>1000 rows × 2 columns</p>\n",
       "</div>"
      ],
      "text/plain": [
       "             ID                                          ClassName\n",
       "0    n01440764                                  tench, Tinca tinca\n",
       "1    n01443537                         goldfish, Carassius auratus\n",
       "2    n01484850   great white shark, white shark, man-eater, man...\n",
       "3    n01491361                     tiger shark, Galeocerdo cuvieri\n",
       "4    n01494475                        hammerhead, hammerhead shark\n",
       "..          ...                                                ...\n",
       "995  n13044778                                           earthstar\n",
       "996  n13052670   hen-of-the-woods, hen of the woods, Polyporus ...\n",
       "997  n13054560                                              bolete\n",
       "998  n13133613                               ear, spike, capitulum\n",
       "999  n15075141        toilet tissue, toilet paper, bathroom tissue\n",
       "\n",
       "[1000 rows x 2 columns]"
      ]
     },
     "execution_count": 88,
     "metadata": {},
     "output_type": "execute_result"
    }
   ],
   "source": [
    "class_mapping=pd.read_csv('class_id_mapping.csv')\n",
    "class_mapping"
   ]
  },
  {
   "cell_type": "code",
   "execution_count": 106,
   "metadata": {
    "tags": []
   },
   "outputs": [
    {
     "data": {
      "text/plain": [
       "array([['tench, Tinca tinca'],\n",
       "       ['English springer, English springer spaniel'],\n",
       "       ['cassette player'],\n",
       "       ['chain saw, chainsaw'],\n",
       "       ['church, church building'],\n",
       "       ['French horn, horn'],\n",
       "       ['garbage truck, dustcart'],\n",
       "       ['gas pump, gasoline pump, petrol pump, island dispenser'],\n",
       "       ['golf ball'],\n",
       "       ['parachute, chute']], dtype=object)"
      ]
     },
     "execution_count": 106,
     "metadata": {},
     "output_type": "execute_result"
    }
   ],
   "source": [
    "class_lbls=np.array([class_mapping['ClassName'][class_mapping['ID']==(ID+' ')] for ID in np.unique(y_pred)])\n",
    "class_lbls"
   ]
  },
  {
   "cell_type": "code",
   "execution_count": 77,
   "metadata": {},
   "outputs": [],
   "source": [
    "confusion=sklearn.metrics.confusion_matrix(label_val,y_pred, labels=None, sample_weight=None, normalize=None)"
   ]
  },
  {
   "cell_type": "code",
   "execution_count": 119,
   "metadata": {},
   "outputs": [],
   "source": [
    " confusion_out=sklearn.metrics.ConfusionMatrixDisplay(confusion,display_labels=class_lbls)"
   ]
  },
  {
   "cell_type": "code",
   "execution_count": 120,
   "metadata": {
    "tags": []
   },
   "outputs": [
    {
     "data": {
      "text/plain": [
       "<sklearn.metrics._plot.confusion_matrix.ConfusionMatrixDisplay at 0x212221ed880>"
      ]
     },
     "execution_count": 120,
     "metadata": {},
     "output_type": "execute_result"
    },
    {
     "data": {
      "image/png": "[encoded data removed]",
      "text/plain": [
       "<Figure size 720x720 with 2 Axes>"
      ]
     },
     "metadata": {},
     "output_type": "display_data"
    }
   ],
   "source": [
    "fig, ax = plt.subplots(figsize=(10,10))\n",
    "\n",
    "confusion_out.plot(ax=ax)"
   ]
  },
  {
   "cell_type": "code",
   "execution_count": null,
   "metadata": {},
   "outputs": [],
   "source": [
    "!python hyperparam_search.py"
   ]
  },
  {
   "cell_type": "code",
   "execution_count": 123,
   "metadata": {},
   "outputs": [],
   "source": [
    "\n",
    "from scipy.stats import norm\n",
    "from pprint import pprint\n",
    "import time"
   ]
  },
  {
   "cell_type": "code",
   "execution_count": null,
   "metadata": {},
   "outputs": [],
   "source": [
    "1"
   ]
  },
  {
   "cell_type": "code",
   "execution_count": 69,
   "metadata": {},
   "outputs": [
    {
     "data": {
      "image/png": "[encoded data removed]",
      "text/plain": [
       "<Figure size 1152x432 with 1 Axes>"
      ]
     },
     "metadata": {},
     "output_type": "display_data"
    }
   ],
   "source": [
    "pipelinesults, best_index = take_n_best(results, 5)\n",
    "\n",
    "#print_some_facts(top_results, best_index, tic, toc)\n",
    "plot_some_results(top_results)"
   ]
  },
  {
   "cell_type": "code",
   "execution_count": 71,
   "metadata": {},
   "outputs": [
    {
     "data": {
      "image/png": "[encoded data removed]",
      "text/plain": [
       "<Figure size 1152x432 with 1 Axes>"
      ]
     },
     "metadata": {},
     "output_type": "display_data"
    }
   ],
   "source": [
    "top_results, best_index = take_n_best(results, 5)\n",
    "\n",
    "#print_some_facts(top_results, best_index, tic, toc)\n",
    "plot_some_results(top_results)"
   ]
  }
 ],
 "metadata": {
  "kernelspec": {
   "display_name": "Python 3 (ipykernel)",
   "language": "python",
   "name": "python3"
  },
  "language_info": {
   "codemirror_mode": {
    "name": "ipython",
    "version": 3
   },
   "file_extension": ".py",
   "mimetype": "text/x-python",
   "name": "python",
   "nbconvert_exporter": "python",
   "pygments_lexer": "ipython3",
   "version": "3.9.7"
  }
 },
 "nbformat": 4,
 "nbformat_minor": 4
}
